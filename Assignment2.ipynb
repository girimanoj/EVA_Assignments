{
  "nbformat": 4,
  "nbformat_minor": 0,
  "metadata": {
    "colab": {
      "name": "Assignment2.ipynb",
      "version": "0.3.2",
      "provenance": [],
      "collapsed_sections": [],
      "include_colab_link": true
    },
    "kernelspec": {
      "name": "python3",
      "display_name": "Python 3"
    }
  },
  "cells": [
    {
      "cell_type": "markdown",
      "metadata": {
        "id": "view-in-github",
        "colab_type": "text"
      },
      "source": [
        "<a href=\"https://colab.research.google.com/github/girimanoj/EVA_Assignments/blob/master/Assignment2.ipynb\" target=\"_parent\"><img src=\"https://colab.research.google.com/assets/colab-badge.svg\" alt=\"Open In Colab\"/></a>"
      ]
    },
    {
      "cell_type": "code",
      "metadata": {
        "id": "LYlaBm5szDR1",
        "colab_type": "code",
        "colab": {}
      },
      "source": [
        "#Installaing Keras Package \n",
        "# https://keras.io/\n",
        "!pip install -q keras\n",
        "import keras"
      ],
      "execution_count": 0,
      "outputs": []
    },
    {
      "cell_type": "code",
      "metadata": {
        "id": "DzBVJUk2zhws",
        "colab_type": "code",
        "colab": {}
      },
      "source": [
        "#Inporting the Numpy\n",
        "import numpy as np\n",
        "\n",
        "#Importing different functions from keras package, like sequential model, flatten and convolution2D layers. and Importing the MNIST dataset from keras\n",
        "from keras.models import Sequential\n",
        "from keras.layers import Flatten\n",
        "from keras.layers import Convolution2D\n",
        "from keras.utils import np_utils\n",
        "\n",
        "from keras.datasets import mnist"
      ],
      "execution_count": 0,
      "outputs": []
    },
    {
      "cell_type": "code",
      "metadata": {
        "id": "SU1EsPN91zk1",
        "colab_type": "code",
        "colab": {}
      },
      "source": [
        "#Loading the MNIST package Train and Test Data. \n",
        "(X_train, y_train), (X_test, y_test) = mnist.load_data()"
      ],
      "execution_count": 0,
      "outputs": []
    },
    {
      "cell_type": "code",
      "metadata": {
        "id": "0pn__NES2JNI",
        "colab_type": "code",
        "colab": {}
      },
      "source": [
        "#Printing the shape of Train data and printing one sample image from Train Data. We see the shape printing as 60000, 28, 28 which means we have 60000 train data images of pixes array size 28x28\n",
        "print (X_train.shape)\n",
        "\n",
        "#Added below prints to check train data shapes\n",
        "print (X_test.shape)\n",
        "print (y_train.shape)\n",
        "print (y_test.shape)\n",
        "\n",
        "from matplotlib import pyplot as plt\n",
        "%matplotlib inline\n",
        "plt.imshow(X_train[0])"
      ],
      "execution_count": 0,
      "outputs": []
    },
    {
      "cell_type": "code",
      "metadata": {
        "id": "U8asUTCJ2wv4",
        "colab_type": "code",
        "colab": {}
      },
      "source": [
        "#Reshaping the X_train and X_test data to 28x28x1 from 28x28\n",
        "X_train = X_train.reshape(X_train.shape[0], 28, 28,1)\n",
        "X_test = X_test.reshape(X_test.shape[0], 28, 28,1)\n",
        "\n",
        "#Adding below prin messages to check changed shape\n",
        "print (X_train.shape)\n",
        "print (X_test.shape)\n",
        "print (X_train)"
      ],
      "execution_count": 0,
      "outputs": []
    },
    {
      "cell_type": "code",
      "metadata": {
        "id": "s_ltO5CU26l1",
        "colab_type": "code",
        "colab": {}
      },
      "source": [
        "#Converting thr Train Data as float32\n",
        "\n",
        "X_train = X_train.astype('float32')\n",
        "X_test = X_test.astype('float32')\n",
        "X_train /= 255\n",
        "X_test /= 255\n",
        "\n",
        "print (X_train.shape)\n",
        "#print (X_train)\n",
        "#X_train[:1]"
      ],
      "execution_count": 0,
      "outputs": []
    },
    {
      "cell_type": "code",
      "metadata": {
        "id": "24FwCfl03EOP",
        "colab_type": "code",
        "colab": {}
      },
      "source": [
        "#Printing first 10 Values from y_train\n",
        "\n",
        "#Added Print commands to see train value and shape\n",
        "print (y_train)\n",
        "print (y_train.shape)\n",
        "\n",
        "y_train[:10]"
      ],
      "execution_count": 0,
      "outputs": []
    },
    {
      "cell_type": "code",
      "metadata": {
        "id": "BtBNtXZr3q0e",
        "colab_type": "code",
        "colab": {}
      },
      "source": [
        "# Convert 1-dimensional class arrays to 10-dimensional class matrices\n",
        "Y_train = np_utils.to_categorical(y_train, 10)\n",
        "Y_test = np_utils.to_categorical(y_test, 10)\n",
        "\n",
        "#print(Y_test)"
      ],
      "execution_count": 0,
      "outputs": []
    },
    {
      "cell_type": "code",
      "metadata": {
        "id": "vQjpIULd3ztv",
        "colab_type": "code",
        "colab": {}
      },
      "source": [
        "#Print the converted 10  demensional clss Matrix\n",
        "\n",
        "Y_train[:10]"
      ],
      "execution_count": 0,
      "outputs": []
    },
    {
      "cell_type": "code",
      "metadata": {
        "id": "pUfvp2904vwe",
        "colab_type": "code",
        "colab": {}
      },
      "source": [
        "#Importing Activation and MaxPooling Layers from Keras package to be used in comvolution process\n",
        "from keras.layers import Activation, MaxPooling2D\n",
        "\n",
        "#Performing convolution on 28x28x1 input Layer using 3x3 filter, 2x2 MaxPooling filter size and ReLU as activation unit\n",
        "model = Sequential() \n",
        "model.add(Convolution2D(32, 3, 3, activation='relu', input_shape=(28,28,1)))\n",
        "model.add(Convolution2D(64, 3, 3, activation='relu'))\n",
        "model.add(Convolution2D(128, 3, 3, activation='relu'))\n",
        "\n",
        "model.add(MaxPooling2D(pool_size=(2, 2)))\n",
        "\n",
        "model.add(Convolution2D(256, 3, 3, activation='relu'))\n",
        "model.add(Convolution2D(512, 3, 3, activation='relu'))\n",
        "model.add(Convolution2D(1024, 3, 3, activation='relu'))\n",
        "model.add(Convolution2D(2048, 3, 3, activation='relu'))\n",
        "model.add(Convolution2D(10, 3, 3, activation='relu'))\n",
        "\n",
        "#Flattening the final output Layer of Convolution to convert 2 dimensional layer in one dimensional layer\n",
        "\n",
        "model.add(Flatten())\n",
        "\n",
        "#Softmax fully connected layer\n",
        "model.add(Activation('softmax'))\n",
        "\n",
        "#This is to print the summary of convolution process which we can see on running this cell\n",
        "model.summary()"
      ],
      "execution_count": 0,
      "outputs": []
    },
    {
      "cell_type": "code",
      "metadata": {
        "id": "P04kCOY8QHEH",
        "colab_type": "code",
        "colab": {}
      },
      "source": [
        "#Compiling the model with Loss function categorical_crossentropy, optimizer adam and metrix accuracy \n",
        "\n",
        "model.compile(loss='categorical_crossentropy',\n",
        "             optimizer='adam',\n",
        "             metrics=['accuracy'])"
      ],
      "execution_count": 0,
      "outputs": []
    },
    {
      "cell_type": "code",
      "metadata": {
        "id": "zLbhCwtxQNb0",
        "colab_type": "code",
        "outputId": "efd84cd0-040e-45c1-86c2-5aef629d05fc",
        "colab": {
          "base_uri": "https://localhost:8080/",
          "height": 136
        }
      },
      "source": [
        "#Training the modelwith 10 epochs of batch size 32\n",
        "\n",
        "model.fit(X_train, Y_train, batch_size=32, nb_epoch=10, verbose=1)"
      ],
      "execution_count": 0,
      "outputs": [
        {
          "output_type": "stream",
          "text": [
            "WARNING:tensorflow:From /usr/local/lib/python3.6/dist-packages/tensorflow/python/ops/math_ops.py:3066: to_int32 (from tensorflow.python.ops.math_ops) is deprecated and will be removed in a future version.\n",
            "Instructions for updating:\n",
            "Use tf.cast instead.\n"
          ],
          "name": "stdout"
        },
        {
          "output_type": "stream",
          "text": [
            "/usr/local/lib/python3.6/dist-packages/ipykernel_launcher.py:2: UserWarning: The `nb_epoch` argument in `fit` has been renamed `epochs`.\n",
            "  \n"
          ],
          "name": "stderr"
        },
        {
          "output_type": "stream",
          "text": [
            "Epoch 1/10\n",
            "13504/60000 [=====>........................] - ETA: 1:55:16 - loss: 14.3759 - acc: 0.1050"
          ],
          "name": "stdout"
        }
      ]
    },
    {
      "cell_type": "code",
      "metadata": {
        "id": "NS5mxwl6QS3o",
        "colab_type": "code",
        "colab": {}
      },
      "source": [
        "#Calculation of score\n",
        "score = model.evaluate(X_test, Y_test, verbose=0)"
      ],
      "execution_count": 0,
      "outputs": []
    },
    {
      "cell_type": "code",
      "metadata": {
        "id": "QYRHMfpZQXaN",
        "colab_type": "code",
        "colab": {}
      },
      "source": [
        "#Print Score\n",
        "print(score)"
      ],
      "execution_count": 0,
      "outputs": []
    },
    {
      "cell_type": "code",
      "metadata": {
        "id": "edGFQ31mQc-S",
        "colab_type": "code",
        "colab": {}
      },
      "source": [
        "#Doing the prediction\n",
        "y_pred = model.predict(X_test)"
      ],
      "execution_count": 0,
      "outputs": []
    },
    {
      "cell_type": "code",
      "metadata": {
        "id": "iNGZwhqIQmwD",
        "colab_type": "code",
        "colab": {}
      },
      "source": [
        "#Print Prediction results\n",
        "print(y_pred[:9])\n",
        "print(y_test[:9])"
      ],
      "execution_count": 0,
      "outputs": []
    },
    {
      "cell_type": "code",
      "metadata": {
        "id": "KgIPsH9edbx4",
        "colab_type": "code",
        "colab": {}
      },
      "source": [
        "Problem With this notebook:\n",
        "  \n",
        "  Problem I can see is usage of 1024 and 2048 number of 3x3 filters being used in convolution process which is fetching insanely large amount of Parameters"
      ],
      "execution_count": 0,
      "outputs": []
    }
  ]
}